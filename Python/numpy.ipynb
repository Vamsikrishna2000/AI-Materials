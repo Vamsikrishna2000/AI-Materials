{
 "cells": [
  {
   "cell_type": "markdown",
   "metadata": {},
   "source": [
    "## NumPy"
   ]
  },
  {
   "cell_type": "markdown",
   "metadata": {},
   "source": [
    "### Introduction\n",
    "\n",
    "NumPy (Numerical Python) is a fundamental library in Python that is used for scientific computing. It provides support for large, multi-dimensional arrays and matrices, along with a collection of mathematical functions to operate on these arrays. \n",
    "\n",
    "1. Core Component: ndarray\n",
    "ndarray (N-dimensional array): The primary object in NumPy is the ndarray, a powerful N-dimensional array. It is a grid of values, all of the same type, indexed by a tuple of non-negative integers.\n",
    "Dimensions (axes): The number of dimensions is called the rank of the array, and the size of the array along each dimension is determined by its shape, which is a tuple of integers.\n",
    "\n",
    "2. Key Features\n",
    "Efficient Storage: Arrays in NumPy are more compact and efficient than Python lists, particularly for large data sets. This is because arrays are stored as contiguous blocks of memory, allowing for fast access and manipulation.\n",
    "Mathematical Operations: NumPy supports a wide range of mathematical operations such as element-wise operations, linear algebra (e.g., matrix multiplication), and statistical functions (e.g., mean, standard deviation).\n",
    "Broadcasting: NumPy arrays support broadcasting, which allows you to perform arithmetic operations on arrays of different shapes without needing to explicitly reshape them.\n",
    "Universal Functions (ufuncs): These are functions that operate on ndarray in an element-wise fashion, such as numpy.add, numpy.subtract, and trigonometric functions like numpy.sin.\n",
    "\n",
    "3. Applications\n",
    "Data Analysis: NumPy is widely used in data analysis and is often the basis for other data analysis libraries like Pandas.\n",
    "Machine Learning: It forms the foundation for libraries such as TensorFlow and PyTorch, which are used in machine learning and deep learning.\n",
    "Scientific Computing: Researchers use NumPy in scientific computing fields like physics, chemistry, and biology for simulations and data processing.\n",
    "\n",
    "4. Interoperability\n",
    "Integration with Other Libraries: NumPy is highly interoperable with other Python libraries, like SciPy (for more advanced mathematical operations), Matplotlib (for plotting), and Pandas (for data manipulation).\n"
   ]
  },
  {
   "cell_type": "code",
   "execution_count": 12,
   "metadata": {},
   "outputs": [
    {
     "name": "stdout",
     "output_type": "stream",
     "text": [
      "[1 2 3 4 5 6]\n",
      "<class 'numpy.ndarray'>\n",
      "(6,)\n"
     ]
    }
   ],
   "source": [
    "import numpy as np\n",
    "\n",
    "## Create an array using Numpy\n",
    "## Create a 1D array\n",
    "\n",
    "arr1 = np.array([1,2,3,4,5,6])\n",
    "\n",
    "print(arr1)\n",
    "print(type(arr1))\n",
    "print(arr1.shape) # arr.shape is used to find the no of rows and columns for an N-Dimensional Array.\n",
    "\n",
    "## Create a 2D array\n",
    "# While creating 2D array remember that all rows must have equal number of columns.\n",
    "arr2 = np.array([[1,2,3,4,5],[5,6,7,8,9]])"
   ]
  },
  {
   "cell_type": "code",
   "execution_count": 13,
   "metadata": {},
   "outputs": [
    {
     "data": {
      "text/plain": [
       "array([[1, 2, 3],\n",
       "       [4, 5, 6]])"
      ]
     },
     "execution_count": 13,
     "metadata": {},
     "output_type": "execute_result"
    }
   ],
   "source": [
    "## arr.reshape(rows, columns) are used to reshape the given array. But row*columns should be equal to len(arr)\n",
    "arr3 = np.array([1,2,3,4,5,6])\n",
    "arr3.reshape(2,3) "
   ]
  },
  {
   "cell_type": "code",
   "execution_count": 16,
   "metadata": {},
   "outputs": [
    {
     "data": {
      "text/plain": [
       "array([[ 2,  4,  6,  8, 10, 12],\n",
       "       [14, 16, 18, 20, 22, 24],\n",
       "       [26, 28, 30, 32, 34, 36],\n",
       "       [38, 40, 42, 44, 46, 48]])"
      ]
     },
     "execution_count": 16,
     "metadata": {},
     "output_type": "execute_result"
    }
   ],
   "source": [
    "np.arange(1,10,2) ##Here it arange(start,stop,step) generates similar to list\n",
    "np.arange(2,50,2).reshape(4,6)"
   ]
  },
  {
   "cell_type": "code",
   "execution_count": 65,
   "metadata": {},
   "outputs": [
    {
     "name": "stdout",
     "output_type": "stream",
     "text": [
      "[[1. 1. 1. 1. 1. 1.]\n",
      " [1. 1. 1. 1. 1. 1.]\n",
      " [1. 1. 1. 1. 1. 1.]\n",
      " [1. 1. 1. 1. 1. 1.]\n",
      " [1. 1. 1. 1. 1. 1.]]\n",
      "[1 1 1 1]\n",
      "[[1. 1. 1. 1. 1. 1.]\n",
      " [1. 1. 1. 1. 1. 1.]\n",
      " [1. 1. 1. 1. 1. 1.]\n",
      " [1. 1. 1. 1. 1. 1.]\n",
      " [1. 1. 1. 1. 1. 1.]]\n",
      "[[0. 0. 0. 0. 0. 0.]\n",
      " [0. 0. 0. 0. 0. 0.]\n",
      " [0. 0. 0. 0. 0. 0.]\n",
      " [0. 0. 0. 0. 0. 0.]\n",
      " [0. 0. 0. 0. 0. 0.]]\n"
     ]
    }
   ],
   "source": [
    "print(np.ones((5,6))) #Generates ones with 5 rows and 6 columns\n",
    "print(np.ones(4, dtype=int))\n",
    "print(np.ones((5,6)))\n",
    "print(np.zeros((5,6))) #Generates zeros with 5 rows and 6 columns"
   ]
  },
  {
   "cell_type": "code",
   "execution_count": 20,
   "metadata": {},
   "outputs": [
    {
     "data": {
      "text/plain": [
       "array([[1., 0., 0., 0., 0., 0.],\n",
       "       [0., 1., 0., 0., 0., 0.],\n",
       "       [0., 0., 1., 0., 0., 0.],\n",
       "       [0., 0., 0., 1., 0., 0.],\n",
       "       [0., 0., 0., 0., 1., 0.],\n",
       "       [0., 0., 0., 0., 0., 1.]])"
      ]
     },
     "execution_count": 20,
     "metadata": {},
     "output_type": "execute_result"
    }
   ],
   "source": [
    "##Identity Matrix\n",
    "##Returns matrix with all zeros except ones in diagonal\n",
    "np.eye(6)"
   ]
  },
  {
   "cell_type": "code",
   "execution_count": 21,
   "metadata": {},
   "outputs": [
    {
     "name": "stdout",
     "output_type": "stream",
     "text": [
      "Array:\n",
      " [[1 2 3]\n",
      " [4 5 6]]\n",
      "Shape: (2, 3)\n",
      "Number of dimensions: 2\n",
      "Size (number of elements): 6\n",
      "Data type: int32\n",
      "Item size (in bytes): 4\n"
     ]
    }
   ],
   "source": [
    "## Attributes of Numpy Array\n",
    "arr = np.array([[1, 2, 3], [4, 5, 6]])\n",
    "\n",
    "print(\"Array:\\n\", arr)\n",
    "print(\"Shape:\", arr.shape)  # Output: (2, 3)\n",
    "print(\"Number of dimensions:\", arr.ndim)  # Output: 2\n",
    "print(\"Size (number of elements):\", arr.size)  # Output: 6\n",
    "print(\"Data type:\", arr.dtype)  # Output: int32 (may vary based on platform)\n",
    "print(\"Item size (in bytes):\", arr.itemsize)  # Output: 8 (may vary based on platform)"
   ]
  },
  {
   "cell_type": "code",
   "execution_count": 58,
   "metadata": {},
   "outputs": [
    {
     "name": "stdout",
     "output_type": "stream",
     "text": [
      "Addition: [11 22 33 44 55]\n",
      "Substraction: [ 9 18 27 36 45]\n",
      "Multiplication: [ 10  40  90 160 250]\n",
      "Division: [10. 10. 10. 10. 10.]\n",
      "[1, 2, 3, 4, 5, 1, 2, 3, 4, 5]\n",
      "[ 2  4  6  8 10]\n"
     ]
    }
   ],
   "source": [
    "## NumPy vectorized operations\n",
    "\n",
    "arr5 = np.array([10,20,30,40,50])\n",
    "arr6 = np.array([1,2,3,4,5])\n",
    "\n",
    "#### Here operations of additions etc, happens element wise unlike like list\n",
    "\n",
    "### Element Wise addition\n",
    "print(\"Addition:\", arr5+arr6)\n",
    "\n",
    "## Element Wise Substraction\n",
    "print(\"Substraction:\", arr5-arr6)\n",
    "\n",
    "# Element-wise multiplication\n",
    "print(\"Multiplication:\", arr5 * arr6)\n",
    "\n",
    "# Element-wise division\n",
    "print(\"Division:\", arr5 / arr6)\n",
    "\n",
    "\n",
    "##If you compare list and np.arr these are operations are different for both of them\n",
    "lst = [1,2,3,4,5]\n",
    "arr6 = np.array([1,2,3,4,5])\n",
    "\n",
    "print(lst*2) ##o/p : [1, 2, 3, 4, 5, 1, 2, 3, 4, 5]\n",
    "print(arr6*2) ##o/p :[ 2  4  6  8  10] \n"
   ]
  },
  {
   "cell_type": "code",
   "execution_count": 26,
   "metadata": {},
   "outputs": [
    {
     "name": "stdout",
     "output_type": "stream",
     "text": [
      "[1.41421356 1.73205081 2.         2.23606798 2.44948974]\n",
      "[  7.3890561   20.08553692  54.59815003 148.4131591  403.42879349]\n",
      "[ 0.90929743  0.14112001 -0.7568025  -0.95892427 -0.2794155 ]\n",
      "[0.69314718 1.09861229 1.38629436 1.60943791 1.79175947]\n"
     ]
    }
   ],
   "source": [
    "## Universal Function\n",
    "## Here all these universal functions will be applied to entire functions\n",
    "arr=np.array([2,3,4,5,6])\n",
    "\n",
    "## square root\n",
    "print(np.sqrt(arr))\n",
    "\n",
    "## Exponential\n",
    "print(np.exp(arr))\n",
    "\n",
    "## Sine\n",
    "print(np.sin(arr))\n",
    "\n",
    "## natural log\n",
    "print(np.log(arr))"
   ]
  },
  {
   "cell_type": "code",
   "execution_count": 43,
   "metadata": {},
   "outputs": [
    {
     "name": "stdout",
     "output_type": "stream",
     "text": [
      "arr7 = \n",
      " [[ 1  2  3  4  5]\n",
      " [ 6  7  8  9 10]\n",
      " [11 12 13 14 15]]\n"
     ]
    },
    {
     "data": {
      "text/plain": [
       "array([[ 7,  8,  9],\n",
       "       [12, 13, 14]])"
      ]
     },
     "execution_count": 43,
     "metadata": {},
     "output_type": "execute_result"
    }
   ],
   "source": [
    "## Array Slicing and Indexing Operations\n",
    "\n",
    "arr7 = np.array([[1,2,3,4,5],[6,7,8,9,10],[11,12,13,14,15]])\n",
    "print(\"arr7 = \\n\", arr7)\n",
    "\n",
    "arr7[1][0]\n",
    "arr7[0:2, 1:3]\n",
    "arr7[1:, 1:4]\n",
    "\n",
    "\n"
   ]
  },
  {
   "cell_type": "code",
   "execution_count": 45,
   "metadata": {},
   "outputs": [
    {
     "name": "stdout",
     "output_type": "stream",
     "text": [
      "[[100   2   3   4   5]\n",
      " [  6   7   8   9  10]\n",
      " [ 11  12  13  14  15]]\n",
      "[[100   2   3   4   5]\n",
      " [  6   7   8   9  10]\n",
      " [100 100 100 100 100]]\n"
     ]
    }
   ],
   "source": [
    "## Modify array elements\n",
    "arr7[0,0]=100\n",
    "print(arr7)\n",
    "\n",
    "arr7[2:] = 100\n",
    "print(arr7)"
   ]
  },
  {
   "cell_type": "code",
   "execution_count": 46,
   "metadata": {},
   "outputs": [
    {
     "name": "stdout",
     "output_type": "stream",
     "text": [
      "Normalized data: [-1.41421356 -0.70710678  0.          0.70710678  1.41421356]\n"
     ]
    }
   ],
   "source": [
    "### statistical concepts--Normalization\n",
    "##to have a mean of 0 and standard deviation of 1\n",
    "data = np.array([1, 2, 3, 4, 5])\n",
    "\n",
    "# Calculate the mean and standard deviation\n",
    "mean = np.mean(data)\n",
    "std_dev = np.std(data)\n",
    "\n",
    "# Normalize the data\n",
    "normalized_data = (data - mean) / std_dev\n",
    "print(\"Normalized data:\", normalized_data)"
   ]
  },
  {
   "cell_type": "code",
   "execution_count": 47,
   "metadata": {},
   "outputs": [
    {
     "name": "stdout",
     "output_type": "stream",
     "text": [
      "Mean: 5.5\n",
      "Median: 5.5\n",
      "Standard Deviation: 2.8722813232690143\n",
      "Variance: 8.25\n"
     ]
    }
   ],
   "source": [
    "data = np.array([1, 2, 3, 4, 5, 6, 7, 8, 9, 10])\n",
    "\n",
    "# Mean\n",
    "mean = np.mean(data)\n",
    "print(\"Mean:\", mean)\n",
    "\n",
    "# Median\n",
    "median = np.median(data)\n",
    "print(\"Median:\", median)\n",
    "\n",
    "# Standard deviation\n",
    "std_dev = np.std(data)\n",
    "print(\"Standard Deviation:\", std_dev)\n",
    "\n",
    "# Variance\n",
    "variance = np.var(data)\n",
    "print(\"Variance:\", variance)"
   ]
  },
  {
   "cell_type": "code",
   "execution_count": 55,
   "metadata": {},
   "outputs": [
    {
     "name": "stdout",
     "output_type": "stream",
     "text": [
      "[False False False False False False  True  True  True  True]\n",
      "[ 6  7  8  9 10]\n"
     ]
    },
    {
     "data": {
      "text/plain": [
       "array([5, 6, 7, 8])"
      ]
     },
     "execution_count": 55,
     "metadata": {},
     "output_type": "execute_result"
    }
   ],
   "source": [
    "## Logical operation\n",
    "data=np.array([1,2,3,4,5,6,7,8,9,10])\n",
    "\n",
    "print(data>6)\n",
    "print(data[data>5])\n",
    "data[(data>=5) & (data<=8)]"
   ]
  },
  {
   "cell_type": "code",
   "execution_count": 57,
   "metadata": {},
   "outputs": [
    {
     "data": {
      "text/plain": [
       "array([ 1.        ,  1.18367347,  1.36734694,  1.55102041,  1.73469388,\n",
       "        1.91836735,  2.10204082,  2.28571429,  2.46938776,  2.65306122,\n",
       "        2.83673469,  3.02040816,  3.20408163,  3.3877551 ,  3.57142857,\n",
       "        3.75510204,  3.93877551,  4.12244898,  4.30612245,  4.48979592,\n",
       "        4.67346939,  4.85714286,  5.04081633,  5.2244898 ,  5.40816327,\n",
       "        5.59183673,  5.7755102 ,  5.95918367,  6.14285714,  6.32653061,\n",
       "        6.51020408,  6.69387755,  6.87755102,  7.06122449,  7.24489796,\n",
       "        7.42857143,  7.6122449 ,  7.79591837,  7.97959184,  8.16326531,\n",
       "        8.34693878,  8.53061224,  8.71428571,  8.89795918,  9.08163265,\n",
       "        9.26530612,  9.44897959,  9.63265306,  9.81632653, 10.        ])"
      ]
     },
     "execution_count": 57,
     "metadata": {},
     "output_type": "execute_result"
    }
   ],
   "source": [
    "##np.linespace(start, stop, num) provides num points between start and stop\n",
    "np.linspace(1,10,50)"
   ]
  },
  {
   "cell_type": "code",
   "execution_count": 66,
   "metadata": {},
   "outputs": [
    {
     "data": {
      "text/plain": [
       "array([[0.8712898 , 0.40107639, 0.41654583],\n",
       "       [0.767591  , 0.3513714 , 0.7602165 ],\n",
       "       [0.25877722, 0.21434004, 0.13256026]])"
      ]
     },
     "execution_count": 66,
     "metadata": {},
     "output_type": "execute_result"
    }
   ],
   "source": [
    "## Gives random values between 0 and 1 in the given rows*columns shape\n",
    "np.random.rand(3,3)"
   ]
  },
  {
   "cell_type": "code",
   "execution_count": 67,
   "metadata": {},
   "outputs": [
    {
     "data": {
      "text/plain": [
       "array([[-0.84758222, -1.24273397,  2.01037357,  1.55203471],\n",
       "       [-1.03558289,  0.79806283,  1.19870829, -0.39880597],\n",
       "       [ 1.73829601, -1.15704738, -0.49322039, -0.95482812],\n",
       "       [-0.55306824,  1.25029203, -1.02989427, -1.04302969]])"
      ]
     },
     "execution_count": 67,
     "metadata": {},
     "output_type": "execute_result"
    }
   ],
   "source": [
    "## Gives random values in standard normal distribution in the given rows*columns shape\n",
    "np.random.randn(4,4)"
   ]
  },
  {
   "cell_type": "code",
   "execution_count": 72,
   "metadata": {},
   "outputs": [
    {
     "data": {
      "text/plain": [
       "array([47, 71, 45, 99, 18])"
      ]
     },
     "execution_count": 72,
     "metadata": {},
     "output_type": "execute_result"
    }
   ],
   "source": [
    "## randint(low, high, size) provide array of size between low (inclusive) and high(exclusive)\n",
    "np.random.randint(1,100,5)"
   ]
  },
  {
   "cell_type": "code",
   "execution_count": 74,
   "metadata": {},
   "outputs": [
    {
     "data": {
      "text/plain": [
       "array([[0.08502066, 0.12869843, 0.19963522, 0.69825183, 0.74365366]])"
      ]
     },
     "execution_count": 74,
     "metadata": {},
     "output_type": "execute_result"
    }
   ],
   "source": [
    "## Returns random floats in the half open interval of [0.0, 1.0]\n",
    "np.random.random_sample((1,5))"
   ]
  }
 ],
 "metadata": {
  "kernelspec": {
   "display_name": ".venv",
   "language": "python",
   "name": "python3"
  },
  "language_info": {
   "codemirror_mode": {
    "name": "ipython",
    "version": 3
   },
   "file_extension": ".py",
   "mimetype": "text/x-python",
   "name": "python",
   "nbconvert_exporter": "python",
   "pygments_lexer": "ipython3",
   "version": "3.11.2"
  }
 },
 "nbformat": 4,
 "nbformat_minor": 2
}
